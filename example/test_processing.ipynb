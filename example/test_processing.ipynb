{
 "cells": [
  {
   "cell_type": "code",
   "execution_count": 13,
   "metadata": {},
   "outputs": [],
   "source": [
    "from crimson.nbval_coverage.generate_tests import (\n",
    "    process_notebooks_recursively,\n",
    "    process_notebook,\n",
    "    generate_pytest_path,\n",
    "    delete_dir,\n",
    "    Config\n",
    ")\n",
    "\n",
    "import os"
   ]
  },
  {
   "cell_type": "code",
   "execution_count": 14,
   "metadata": {},
   "outputs": [],
   "source": [
    "Config.is_notebook = True"
   ]
  },
  {
   "cell_type": "code",
   "execution_count": 15,
   "metadata": {},
   "outputs": [],
   "source": [
    "my_dir = './test.ipynb'\n",
    "lvl2_dir = './lvl2/simple_notebook.ipynb'\n",
    "notebook_root = '.'\n",
    "pytest_root = os.path.join(notebook_root, '__pytest__')\n",
    "\n",
    "if not Config.is_notebook :\n",
    "    notebook_root = 'example'\n",
    "    my_dir = os.path.join(notebook_root, my_dir)\n",
    "    lvl2_dir = os.path.join(notebook_root, lvl2_dir)\n",
    "    pytest_root = os.path.join(notebook_root, '__pytest_temp__')\n",
    "    temp_dir = pytest_root"
   ]
  },
  {
   "cell_type": "code",
   "execution_count": 16,
   "metadata": {},
   "outputs": [
    {
     "data": {
      "text/plain": [
       "PosixPath('__pytest__/lvl2/test_ipynb_simple_notebook.py')"
      ]
     },
     "execution_count": 16,
     "metadata": {},
     "output_type": "execute_result"
    }
   ],
   "source": [
    "\n",
    "generate_pytest_path(\n",
    "    lvl2_dir,\n",
    "    notebook_root,\n",
    "    pytest_root\n",
    ")"
   ]
  },
  {
   "cell_type": "code",
   "execution_count": 17,
   "metadata": {},
   "outputs": [
    {
     "name": "stdout",
     "output_type": "stream",
     "text": [
      "Generated test file: __pytest__/lvl2/test_ipynb_simple_notebook.py\n"
     ]
    }
   ],
   "source": [
    "process_notebook(\n",
    "    lvl2_dir,\n",
    "    notebook_root,\n",
    "    pytest_root\n",
    ")"
   ]
  },
  {
   "cell_type": "code",
   "execution_count": 18,
   "metadata": {},
   "outputs": [
    {
     "name": "stdout",
     "output_type": "stream",
     "text": [
      "Processing notebook: test_processing.ipynb\n",
      "Generated test file: __pytest__/test_ipynb_test_processing.py\n",
      "Processing notebook: lvl2/simple_notebook.ipynb\n",
      "Generated test file: __pytest__/lvl2/test_ipynb_simple_notebook.py\n"
     ]
    }
   ],
   "source": [
    "process_notebooks_recursively(notebook_root, pytest_root)"
   ]
  },
  {
   "cell_type": "code",
   "execution_count": 19,
   "metadata": {},
   "outputs": [],
   "source": [
    "if not Config.is_notebook :\n",
    "    delete_dir(temp_dir)\n"
   ]
  }
 ],
 "metadata": {
  "kernelspec": {
   "display_name": "nbval-coverage",
   "language": "python",
   "name": "python3"
  },
  "language_info": {
   "codemirror_mode": {
    "name": "ipython",
    "version": 3
   },
   "file_extension": ".py",
   "mimetype": "text/x-python",
   "name": "python",
   "nbconvert_exporter": "python",
   "pygments_lexer": "ipython3",
   "version": "3.11.9"
  }
 },
 "nbformat": 4,
 "nbformat_minor": 2
}
